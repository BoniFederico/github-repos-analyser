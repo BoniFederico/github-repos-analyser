{
 "cells": [
  {
   "attachments": {},
   "cell_type": "markdown",
   "metadata": {},
   "source": [
    "# OSV API Vulnerabilities Collector\n",
    "\n",
    "Starting from a set of <b> organizations</b> already present in the database, this notebook collected vulnerabilities with the <b>OSV API</b> and store them in the database.<br>\n",
    "\n",
    "If an organization is not stored in the database, a **warning** log message will occur (both in stdout and in the log folder). Execution will continue without taking into account that organization.\n",
    "<hr>"
   ]
  },
  {
   "cell_type": "code",
   "execution_count": null,
   "metadata": {},
   "outputs": [],
   "source": [
    "organizations = [\"italia\"] # Set here the GitHub username of the organization\n",
    "\n",
    "# In order to obtain further information about vulnerabilities, NVD API are used. The public rate limit (without an API key) \n",
    "# is 5 requests in a rolling 30 second window, thus in this notebook the default wait_time is setted to 6 sec between to requests.\n",
    "# If you want to speed up the process (up to 50 requests in a rolling 30 second window), you can get an API KEY by following the\n",
    "# instructions in #https://nvd.nist.gov/developers/start-here#:~:text=to%20in%20sequence.-,Request%20an%20API%20Key,-On%20the%20API.\n",
    "\n",
    "# Once the key is obtained, it is sufficient to paste it in the following variable for increasing the rate limit used in this notebook.\n",
    "# If you do not want to use a KEY simply leave the following variable EMPTY.\n",
    "nvd_api_key = \"<NVD-API-KEY>\"  "
   ]
  },
  {
   "attachments": {},
   "cell_type": "markdown",
   "metadata": {},
   "source": [
    "#### Requirements"
   ]
  },
  {
   "attachments": {},
   "cell_type": "markdown",
   "metadata": {},
   "source": [
    "<hr>"
   ]
  },
  {
   "attachments": {},
   "cell_type": "markdown",
   "metadata": {},
   "source": [
    "#### Logger set up"
   ]
  },
  {
   "cell_type": "code",
   "execution_count": null,
   "metadata": {},
   "outputs": [],
   "source": [
    "import logging, os, datetime,sys\n",
    "from pathlib import Path\n",
    "Path('logs').mkdir(parents=True,exist_ok=True)\n",
    "# Logging Levels: DEBUG, INFO, WARNING, ERROR, CRITICAL\n",
    "logging.basicConfig(#filename=os.path.join('logs','sbom_creator',str(datetime.datetime.now().strftime(\"%d-%m-%Y T%H %M %S\")) +'.log'),\n",
    "handlers=[\n",
    "        logging.FileHandler(os.path.join('logs','log-'+str(datetime.datetime.now().strftime(\"%d-%m-%Y\")) +'.log')),\n",
    "        logging.StreamHandler(sys.stdout)\n",
    "    ],\n",
    "                    format='%(asctime)s |:| LEVEL:%(levelname)-2s |:| FILE:notebook_3 (osv_vulns).ipynb:%(lineno)-s |:| %(message)s',\n",
    "                    datefmt='%Y-%m-%d %H:%M:%S',\n",
    "                    level=logging.DEBUG)\n",
    "logging.getLogger(\"urllib3\").propagate = False"
   ]
  },
  {
   "attachments": {},
   "cell_type": "markdown",
   "metadata": {},
   "source": [
    "#### Database connection"
   ]
  },
  {
   "cell_type": "code",
   "execution_count": null,
   "metadata": {},
   "outputs": [],
   "source": [
    "from lib.sqlite_utils import DBConnection \n",
    "\n",
    "if not os.path.exists(os.path.join('database','database.sqlite')):\n",
    "    logging.critical('Database does not exists! You need to create it first (db_builder.ipynb)')\n",
    "    raise Exception('Database does not exists! You need to create it first (db_builder.ipynb)')\n",
    "\n",
    "conn=DBConnection(os.path.join('database','database.sqlite'))\n",
    "logging.info('Connected with \"database/database.sqlite\" database.') "
   ]
  },
  {
   "attachments": {},
   "cell_type": "markdown",
   "metadata": {},
   "source": [
    "#### Checking organization existance"
   ]
  },
  {
   "cell_type": "code",
   "execution_count": null,
   "metadata": {},
   "outputs": [],
   "source": [
    "for org in range(len(organizations)):\n",
    "    try:\n",
    "        organizations[org] = conn.get_rows('organization',{'url':'https://github.com/{}'.format(organizations[org])})[0]\n",
    "        logging.info('Found organization \"{}\" in the database!'.format(organizations[org]['user_name']))\n",
    "    except IndexError as err:\n",
    "        logging.warning('Cannot find organization \"{}\" in the database!'.format(organizations[org]))\n",
    "        organizations.remove(organizations[org])\n",
    "        continue"
   ]
  },
  {
   "attachments": {},
   "cell_type": "markdown",
   "metadata": {},
   "source": [
    "#### Get packages from repositories of the organizations:"
   ]
  },
  {
   "cell_type": "code",
   "execution_count": null,
   "metadata": {},
   "outputs": [],
   "source": [
    "packages = list()\n",
    "for organization in organizations:\n",
    "    res = conn.query('SELECT p.purl,p.name,p.package_manager,p.version,p.namespace FROM (SELECT * FROM manifest_dependency UNION SELECT * FROM parsed_dependency) d LEFT JOIN package p ON d.package=p.purl LEFT JOIN repository r ON r.url=d.repository LEFT JOIN organization o ON o.url=r.organization WHERE o.url=\"{}\"'.format(organization['url']))\n",
    "packages.extend([dict(zip(['purl','name','package_manager','version','namespace'],p)) for p in res])"
   ]
  },
  {
   "cell_type": "code",
   "execution_count": null,
   "metadata": {},
   "outputs": [],
   "source": [
    "packages = list({x['purl']:x for x in packages}.values()) # Drop duplicates"
   ]
  },
  {
   "cell_type": "code",
   "execution_count": null,
   "metadata": {},
   "outputs": [],
   "source": [
    "len(packages)"
   ]
  },
  {
   "attachments": {},
   "cell_type": "markdown",
   "metadata": {},
   "source": [
    "#### Get vulnerabilities for each package:"
   ]
  },
  {
   "cell_type": "code",
   "execution_count": null,
   "metadata": {},
   "outputs": [],
   "source": [
    "from lib.vuln_utils import get_osv_api_vulnerabilities\n",
    "\n",
    "vulnerabilities, osv_affection = list(), list()\n",
    "for package in packages:\n",
    "    vulns, affecs = get_osv_api_vulnerabilities(package,logger= logging)\n",
    "    vulnerabilities.extend(vulns)\n",
    "    osv_affection.extend(affecs)\n",
    "\n",
    "vulnerabilities = list({x['id']:x for x in vulnerabilities}.values())"
   ]
  },
  {
   "attachments": {},
   "cell_type": "markdown",
   "metadata": {},
   "source": [
    "#### Update database:"
   ]
  },
  {
   "cell_type": "code",
   "execution_count": null,
   "metadata": {},
   "outputs": [],
   "source": [
    "for vuln in vulnerabilities:\n",
    "    conn.add_or_update('vulnerability',vuln)\n",
    "\n",
    "for aff in osv_affection:\n",
    "    conn.add_or_update('osv_api_potential_affection',aff)"
   ]
  },
  {
   "attachments": {},
   "cell_type": "markdown",
   "metadata": {},
   "source": [
    "#### Use NVD API to store more info about vulnerabilities collected with Grype:"
   ]
  },
  {
   "cell_type": "code",
   "execution_count": null,
   "metadata": {},
   "outputs": [],
   "source": [
    "from lib.vuln_utils import extend_vulns_with_nvdapi\n",
    "logging.info('Getting more info about vulnerabilities with OSV API')\n",
    "vulnerabilities = extend_vulns_with_nvdapi(vulnerabilities,wait_time=0.6 if nvd_api_key!='' else 6, logger=logging,nvd_api_key=nvd_api_key if nvd_api_key!='' else None)"
   ]
  },
  {
   "attachments": {},
   "cell_type": "markdown",
   "metadata": {},
   "source": [
    "#### Update database:"
   ]
  },
  {
   "cell_type": "code",
   "execution_count": null,
   "metadata": {},
   "outputs": [],
   "source": [
    "for vuln in vulnerabilities:\n",
    "    conn.add_or_update('vulnerability',vuln)"
   ]
  },
  {
   "attachments": {},
   "cell_type": "markdown",
   "metadata": {},
   "source": [
    "#### Close database:"
   ]
  },
  {
   "cell_type": "code",
   "execution_count": null,
   "metadata": {},
   "outputs": [],
   "source": [
    "conn.close()"
   ]
  }
 ],
 "metadata": {
  "kernelspec": {
   "display_name": "Python 3",
   "language": "python",
   "name": "python3"
  },
  "language_info": {
   "codemirror_mode": {
    "name": "ipython",
    "version": 3
   },
   "file_extension": ".py",
   "mimetype": "text/x-python",
   "name": "python",
   "nbconvert_exporter": "python",
   "pygments_lexer": "ipython3",
   "version": "3.10.8 (tags/v3.10.8:aaaf517, Oct 11 2022, 16:50:30) [MSC v.1933 64 bit (AMD64)]"
  },
  "orig_nbformat": 4,
  "vscode": {
   "interpreter": {
    "hash": "369f2c481f4da34e4445cda3fffd2e751bd1c4d706f27375911949ba6bb62e1c"
   }
  }
 },
 "nbformat": 4,
 "nbformat_minor": 2
}
