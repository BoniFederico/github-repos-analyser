{
 "cells": [
  {
   "attachments": {},
   "cell_type": "markdown",
   "metadata": {},
   "source": [
    "# GitHub & Government Loader\n",
    "\n",
    "This notebook is used to store information about <b>organizations</b> listed in the [GitHub & Government page](https://government.github.com/community/), their <b>repositories</b> and their <b>contributors</b> in the database.  \n",
    "<hr>"
   ]
  },
  {
   "cell_type": "code",
   "execution_count": null,
   "metadata": {},
   "outputs": [],
   "source": [
    "access_token=\"<PERSONAL-ACCESS-TOKEN>\" # You need to create a Personal Access Token (https://github.com/settings/tokens)"
   ]
  },
  {
   "attachments": {},
   "cell_type": "markdown",
   "metadata": {},
   "source": [
    "#### Requirements"
   ]
  },
  {
   "cell_type": "code",
   "execution_count": null,
   "metadata": {},
   "outputs": [],
   "source": [
    "! pip install lxml\n",
    "! pip install beautifulsoup4\n",
    "! pip install iso3166"
   ]
  },
  {
   "attachments": {},
   "cell_type": "markdown",
   "metadata": {},
   "source": [
    "<hr>"
   ]
  },
  {
   "attachments": {},
   "cell_type": "markdown",
   "metadata": {},
   "source": [
    "#### GitHubApi instance"
   ]
  },
  {
   "cell_type": "code",
   "execution_count": null,
   "metadata": {},
   "outputs": [],
   "source": [
    "from lib.github import GitHubApi\n",
    "github_api=GitHubApi(access_token)"
   ]
  },
  {
   "attachments": {},
   "cell_type": "markdown",
   "metadata": {},
   "source": [
    "#### Logger set up"
   ]
  },
  {
   "cell_type": "code",
   "execution_count": null,
   "metadata": {},
   "outputs": [],
   "source": [
    "import logging, os, datetime,sys\n",
    "from pathlib import Path\n",
    "Path('logs').mkdir(parents=True,exist_ok=True)\n",
    "# Logging Levels: DEBUG, INFO, WARNING, ERROR, CRITICAL\n",
    "logging.basicConfig(#filename=os.path.join('logs','sbom_creator',str(datetime.datetime.now().strftime(\"%d-%m-%Y T%H %M %S\")) +'.log'),\n",
    "handlers=[\n",
    "        logging.FileHandler(os.path.join('logs','log-'+str(datetime.datetime.now().strftime(\"%d-%m-%Y\")) +'.log')),\n",
    "        logging.StreamHandler(sys.stdout)\n",
    "    ],\n",
    "                    format='%(asctime)s |:| LEVEL:%(levelname)-2s |:| FILE:notebook_1 (gov_org_loader).ipynb:%(lineno)-s |:| %(message)s',\n",
    "                    datefmt='%Y-%m-%d %H:%M:%S',\n",
    "                    level=logging.DEBUG)\n",
    "#if not logging.getLogger().handlers: logging.getLogger().addHandler(logging.StreamHandler(sys.stdout))\n",
    "logging.getLogger(\"urllib3\").propagate = False"
   ]
  },
  {
   "attachments": {},
   "cell_type": "markdown",
   "metadata": {},
   "source": [
    "#### Get GitHub & Government list:"
   ]
  },
  {
   "cell_type": "code",
   "execution_count": null,
   "metadata": {},
   "outputs": [],
   "source": [
    "import requests\n",
    "from bs4 import BeautifulSoup\n",
    "import re\n",
    "\n",
    "\n",
    "gh_gov_url='https://government.github.com/community/' \n",
    " \n",
    "soup = BeautifulSoup(requests.get(gh_gov_url).text, 'lxml') #Obtain the BeautifulSoup object\n",
    "orgs_names = soup.select('div.org-name') #Get GitHub organizations names\n",
    "orgs=list()\n",
    "for on in orgs_names: #For each org get username, section and category in the GitHub & Government page:\n",
    "       orgs.append({\n",
    "            'user_name':re.compile(r'@([\\w,-]+)').search(on.text).groups()[0],\n",
    "            'section':on.find_previous('h2').text.strip(),\n",
    "            'category':re.compile(r'(.*)\\([0-9]+\\)').search(on.find_previous('h3').text).groups()[0].strip()\n",
    "       })\n",
    "\n",
    "logging.info('{} GitHub repositories related to Government agencies at the national, state and local level have been found.'.format(len(orgs_names)))"
   ]
  },
  {
   "attachments": {},
   "cell_type": "markdown",
   "metadata": {},
   "source": [
    "#### Get information about each organization"
   ]
  },
  {
   "cell_type": "code",
   "execution_count": null,
   "metadata": {},
   "outputs": [],
   "source": [
    "orgs = orgs[:5]"
   ]
  },
  {
   "cell_type": "code",
   "execution_count": null,
   "metadata": {},
   "outputs": [],
   "source": [
    "import time\n",
    "import datetime\n",
    "from iso3166 import countries\n",
    "\n",
    "for org in orgs:\n",
    "    logging.info('Getting organization info from GitHub API for organization\"{}\"'.format(org['user_name']))\n",
    "    try:\n",
    "        data=github_api.req('https://api.github.com/orgs/{}'.format(org['user_name'].lower()))\n",
    "        members= github_api.req('https://api.github.com/orgs/{}/public_members'.format(org['user_name']))\n",
    "        \n",
    "        orgs[orgs.index(org)]= org | {\n",
    "            'url':'https:github.com/'+org['user_name'],\n",
    "            'name': data['name'] if 'name' in data else data['login'] if 'login' in data else '',\n",
    "            'location': data['location'] if 'location' in data else '',\n",
    "            'repos': data['public_repos'] if 'public_repos' in data else '',\n",
    "            'followers': data['followers'] if 'followers' in data else '',\n",
    "            'created_at': data['created_at'] if 'created_at' in data else '',\n",
    "            'timestamp_created_at': time.mktime(datetime.datetime.strptime( data['created_at'], \"%Y-%m-%dT%XZ\").timetuple()) if 'created_at' in data else '',\n",
    "            'country':countries.get(org['category'])[0] if org['category'] in countries else 'United States' if 'U.S' or 'America' in org['category'] else 'United Kingdom' if 'U.K.' in org['category'] else '',\n",
    "            'members': len(members)\n",
    "        }\n",
    " \n",
    "    except Exception as e:\n",
    "        logging.warning('A problem occur while using GitHub API for \"{}\" organization. Problem: {}'.format(org['user_name'],e))\n"
   ]
  },
  {
   "attachments": {},
   "cell_type": "markdown",
   "metadata": {},
   "source": [
    "### Store organizations in SQLite database"
   ]
  },
  {
   "cell_type": "code",
   "execution_count": null,
   "metadata": {},
   "outputs": [],
   "source": [
    "from lib.sqlite_utils import DBConnection \n",
    "import os\n",
    "\n",
    "if not os.path.exists(os.path.join('database','database.sqlite')):\n",
    "    raise Exception('Database does not exists! You need to create it first (db_builder.ipynb)')\n",
    "\n",
    "conn=DBConnection(os.path.join('database','database.sqlite'))\n",
    "conn.query(\"PRAGMA foreign_keys = ON;\")\n",
    "\n",
    "logging.info('Connected with \"database/database.sqlite\" database.') \n",
    "\n",
    "for org in orgs:    \n",
    "    conn.add('organization',org) \n",
    "\n",
    "logging.info('Added {} organizations to the database.'.format(str(len(orgs))))"
   ]
  },
  {
   "attachments": {},
   "cell_type": "markdown",
   "metadata": {},
   "source": [
    "#### Get repositories info for each organization"
   ]
  },
  {
   "cell_type": "code",
   "execution_count": null,
   "metadata": {},
   "outputs": [],
   "source": [
    "from datetime import date\n",
    "\n",
    "res_per_page,starting_page= 50,1\n",
    "\n",
    "for org in orgs:\n",
    "    counter,organization=0, org['user_name']\n",
    "    repos=None\n",
    "    try:\n",
    "        repos=github_api.req(f'https://api.github.com/orgs/{organization}/repos?page={starting_page}&per_page={res_per_page}')\n",
    "    except Exception as e:\n",
    "        logging.warning('A problem occurs while using GitHub API for organization \"{}\". Skipping to the next organization.'.format(org['user_name']))\n",
    "        continue\n",
    "    org['repos_list'] = list()\n",
    "\n",
    "    while len(repos)>0:\n",
    "        for repo in repos:\n",
    "            logging.info('Getting info about \"{}\" repository of \"{}\" organization  ...'.format(repo['name'] if 'name' in repo else '-', org['user_name']))\n",
    "            org['repos_list'].append({\n",
    "                'name':repo['name'] if 'name' in repo else '',\n",
    "                'organization':org['url'],\n",
    "                'description': repo['description'] if 'description' in repo else '',\n",
    "                'url': repo['html_url'] if 'html_url' in repo else 'https://github.com/{}/{}'.format(org['user_name'],repo['name'] if 'name' in repo else ''),\n",
    "            'is_fork': 1 if (repo['fork'] if 'fork' in repo else False) else 0,\n",
    "                'size': repo['size'] if 'size' in repo else '-1',\n",
    "                'stars': repo['stargazers_count'] if 'stargazers_count' in repo else (repo['watchers'] if 'watchers' in repo else -1),\n",
    "                'watcher': repo['subscribers_count'] if 'subscribers_count' in repo else -1,\n",
    "                'language': repo['language'] if 'language' in repo else '',\n",
    "                'forks': repo['forks_count'] if 'forks_count' in repo else -1,\n",
    "                'open_issues': repo['open_issues'] if 'open_issues_count' in repo else -1,\n",
    "                'created_at': repo['created_at'] if 'created_at' in repo else '',\n",
    "                'updated_at': repo['updated_at'] if 'updated_at' in repo else '',\n",
    "                'stored_at': str(date.today()),\n",
    "                'default_branch': repo['default_branch'] if 'default_branch' in repo else 'master',\n",
    "                'timestamp_created_at': time.mktime(datetime.datetime.strptime( repo['created_at'], \"%Y-%m-%dT%XZ\").timetuple()) if 'created_at' in repo else '',\n",
    "                'timestamp_updated_at': time.mktime(datetime.datetime.strptime( repo['updated_at'], \"%Y-%m-%dT%XZ\").timetuple()) if 'updated_at' in repo else ''\n",
    "            })\n",
    "        starting_page+=1\n",
    "        repos=github_api.req(f'https://api.github.com/orgs/{organization}/repos?page={starting_page}&per_page={res_per_page}')\n"
   ]
  },
  {
   "attachments": {},
   "cell_type": "markdown",
   "metadata": {},
   "source": [
    "#### Store each repository of each organization"
   ]
  },
  {
   "cell_type": "code",
   "execution_count": null,
   "metadata": {},
   "outputs": [],
   "source": [
    "from lib.sqlite_utils import DBConnection \n",
    "import os\n",
    "\n",
    "for org in orgs:  \n",
    "    for repo in org['repos_list']:  \n",
    "        conn.add('repository',repo)\n",
    "logging.info(f'Stored all repositories into the database.')"
   ]
  },
  {
   "attachments": {},
   "cell_type": "markdown",
   "metadata": {},
   "source": [
    "#### Collect contributors for each repository"
   ]
  },
  {
   "cell_type": "code",
   "execution_count": null,
   "metadata": {},
   "outputs": [],
   "source": [
    "from collections import Counter\n",
    "from dateutil.parser import parse\n",
    "from time import strptime,strftime\n",
    "from lib.github import get_contributors, get_commits, get_pullrequests\n",
    "\n",
    "\n",
    "users = list()\n",
    "contribs = list()\n",
    "\n",
    "instances = list()\n",
    "for org in orgs:\n",
    "    instances.extend([(r,org['user_name']) for r in org['repos_list'] if 'repos_list' in org])\n",
    "\n",
    "for repo,organization in instances:\n",
    "    try:\n",
    "        branches = github_api.req('https://api.github.com/repos/{}/{}/branches'.format(organization,repo['name']))\n",
    "    except Exception as e:\n",
    "        logging.warning('Cannot use GitHub API for collecting branches of repository \"{}\" (Organization \"{}\"). Error:\\n{}'.format(repo['name'],organization,e))\n",
    "        continue\n",
    "    branches = branches if 'message' not in branches else []\n",
    "\n",
    "    contributors = []\n",
    "    if len(branches)==0 or repo['size']==0:\n",
    "        continue\n",
    "\n",
    "    contributors = get_contributors(organization,repo['name'],github_api)\n",
    "    commits = get_commits(organization,repo['name'],github_api)\n",
    "    pull_requests = get_pullrequests(organization,repo['name'],github_api)\n",
    "\n",
    "    contributors = [user for user in contributors if 'login' in user]\n",
    "    pull_requests = [pull for pull in pull_requests if 'user' in pull and 'login' in pull['user'] and 'state' in pull]\n",
    "    commits = [com for com in commits if 'commit' in com and 'author' in com['commit'] and 'date' in com['commit']['author'] and ('login' in com['commit']['author'] or 'name' in com['commit']['author'])] \n",
    "\n",
    "    for user in contributors:\n",
    "        metadata = github_api.req('https://api.github.com/users/{}'.format(user['login']))\n",
    "        \n",
    "        users.append({\n",
    "            'user_name': metadata['login'] if 'login' in metadata else user['login'],\n",
    "            'created_at': metadata['created_at'] if 'created_at' in metadata else '',\n",
    "            'updated_at': metadata['updated_at'] if 'updated_at' in metadata else '',\n",
    "            'name': metadata['name'],\n",
    "            'company': metadata['company'] if 'company' in metadata else '',\n",
    "            'location': metadata['location'] if 'location' in metadata else '',\n",
    "            'followers': metadata['followers'] if 'followers' in metadata else '',\n",
    "            'following': metadata['following'] if 'following' in metadata else '',\n",
    "            'email': metadata['email'] if 'email' in metadata else '',\n",
    "            'bio': metadata['bio'] if 'bio' in metadata else '',\n",
    "            'repos': metadata['public_repos'] if 'public_repos' in metadata else '',\n",
    "            'twitter_username': metadata['twitter_username'] if 'twitter_username' in metadata else '',\n",
    "        })\n",
    "\n",
    "        commit_dates= [parse(commit['commit']['author']['date']).strftime('%d/%m/%Y') for commit in commits if  (commit['author']['login'] if (commit['author'] is not None and 'login' in commit['author'])  else  commit['commit']['author']['name']) ==user['login']] \n",
    "\n",
    "        contribs.append({\n",
    "            'user_name': metadata['login'],\n",
    "            'repository': repo['url'],\n",
    "            'contributions': user['contributions'],\n",
    "            'rejected_pull_requests': len([pull for pull in pull_requests if pull['user']['login']==user['login'] and pull['state']=='closed' and not('merged_at'  in pull)]),\n",
    "            'max_commit_in_a_day':  Counter(commit_dates).most_common()[0][1]  if len(commit_dates)>0 else '',\n",
    "            'first_commit_date':str(strftime('%d/%m/%Y',min([strptime(date,'%d/%m/%Y') for date in commit_dates])) if len(commit_dates)>0 else \"\")\n",
    "\n",
    "        })\n",
    "    logging.info('Collected {} contributors for repository \"{}\" ...'.format(len(contributors), repo['url']))\n"
   ]
  },
  {
   "attachments": {},
   "cell_type": "markdown",
   "metadata": {},
   "source": [
    "#### Store users and contributors in database"
   ]
  },
  {
   "cell_type": "code",
   "execution_count": null,
   "metadata": {},
   "outputs": [],
   "source": [
    "for user in users:\n",
    "    conn.add_or_update('user',user)\n",
    "\n",
    "for contrib in contribs:\n",
    "    conn.add_or_update('contributor',contrib)"
   ]
  },
  {
   "attachments": {},
   "cell_type": "markdown",
   "metadata": {},
   "source": [
    "#### Close database"
   ]
  },
  {
   "cell_type": "code",
   "execution_count": null,
   "metadata": {},
   "outputs": [],
   "source": [
    "conn.close()"
   ]
  }
 ],
 "metadata": {
  "kernelspec": {
   "display_name": "Python 3",
   "language": "python",
   "name": "python3"
  },
  "language_info": {
   "codemirror_mode": {
    "name": "ipython",
    "version": 3
   },
   "file_extension": ".py",
   "mimetype": "text/x-python",
   "name": "python",
   "nbconvert_exporter": "python",
   "pygments_lexer": "ipython3",
   "version": "3.10.8 (tags/v3.10.8:aaaf517, Oct 11 2022, 16:50:30) [MSC v.1933 64 bit (AMD64)]"
  },
  "orig_nbformat": 4,
  "vscode": {
   "interpreter": {
    "hash": "369f2c481f4da34e4445cda3fffd2e751bd1c4d706f27375911949ba6bb62e1c"
   }
  }
 },
 "nbformat": 4,
 "nbformat_minor": 2
}
