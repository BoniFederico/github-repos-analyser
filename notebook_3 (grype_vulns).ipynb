{
 "cells": [
  {
   "attachments": {},
   "cell_type": "markdown",
   "metadata": {},
   "source": [
    "# Grype vulnerabilities collector\n",
    "\n",
    "Starting from a set of <b> organizations</b> already present in the database, this notebook collected vulnerabilities with <b>Grype</b> and store them in the database.\n",
    "<hr>"
   ]
  },
  {
   "cell_type": "code",
   "execution_count": null,
   "metadata": {},
   "outputs": [],
   "source": [
    "organizations = [\"opendatatrentino\"] # Set here the GitHub username of the organization\n",
    "\n",
    "# In order to obtain further information about vulnerabilities, NVD API are used. The public rate limit (without an API key) \n",
    "# is 5 requests in a rolling 30 second window, thus in this notebook the default wait_time is setted to 6 sec between to requests.\n",
    "# If you want to speed up the process (up to 50 requests in a rolling 30 second window), you can get an API KEY by following the\n",
    "# instructions in #https://nvd.nist.gov/developers/start-here#:~:text=to%20in%20sequence.-,Request%20an%20API%20Key,-On%20the%20API.\n",
    "\n",
    "# Once the key is obtained, it is sufficient to paste it in the following variable for increasing the rate limit used in this notebook.\n",
    "# If you do not want to use a KEY simply leave the following variable EMPTY.\n",
    "nvd_api_key = \"<NVD-API-KEY>\" "
   ]
  },
  {
   "attachments": {},
   "cell_type": "markdown",
   "metadata": {},
   "source": [
    "#### Requirements"
   ]
  },
  {
   "cell_type": "code",
   "execution_count": null,
   "metadata": {},
   "outputs": [],
   "source": [
    "# In order to execute Grype, wsl (Windows subsystem for Linux) is required along with an Ubuntu distro.\n",
    "# Install WSL and Ubuntu (if does not work, enable WSL features from Windows settings: 'Turn Windows features on or off'):\n",
    "#! wsl --install -d ubuntu\n",
    "#! wsl --set-default Ubuntu\n",
    "\n",
    "#Install Grype (if it does not work from PowerShell (or from the console used by the notebook), try to install it with Command Prompt):\n",
    "#! wsl curl -sSfL https://raw.githubusercontent.com/anchore/grype/main/install.sh | wsl sh -s -- -b /usr/local/bi"
   ]
  },
  {
   "attachments": {},
   "cell_type": "markdown",
   "metadata": {},
   "source": [
    "<hr>"
   ]
  },
  {
   "attachments": {},
   "cell_type": "markdown",
   "metadata": {},
   "source": [
    "#### Logger set up"
   ]
  },
  {
   "cell_type": "code",
   "execution_count": null,
   "metadata": {},
   "outputs": [],
   "source": [
    "import logging, os, datetime,sys\n",
    "from pathlib import Path\n",
    "Path('logs').mkdir(parents=True,exist_ok=True)\n",
    "# Logging Levels: DEBUG, INFO, WARNING, ERROR, CRITICAL\n",
    "logging.basicConfig(#filename=os.path.join('logs','sbom_creator',str(datetime.datetime.now().strftime(\"%d-%m-%Y T%H %M %S\")) +'.log'),\n",
    "handlers=[\n",
    "        logging.FileHandler(os.path.join('logs','log-'+str(datetime.datetime.now().strftime(\"%d-%m-%Y\")) +'.log')),\n",
    "        logging.StreamHandler(sys.stdout)\n",
    "    ],\n",
    "                    format='%(asctime)s |:| LEVEL:%(levelname)-2s |:| FILE:notebook_3 (grype_vulns).ipynb:%(lineno)-s |:| %(message)s',\n",
    "                    datefmt='%Y-%m-%d %H:%M:%S',\n",
    "                    level=logging.DEBUG)\n",
    "logging.getLogger(\"urllib3\").propagate = False"
   ]
  },
  {
   "attachments": {},
   "cell_type": "markdown",
   "metadata": {},
   "source": [
    "#### Database connection"
   ]
  },
  {
   "cell_type": "code",
   "execution_count": null,
   "metadata": {},
   "outputs": [],
   "source": [
    "from lib.sqlite_utils import DBConnection \n",
    "\n",
    "if not os.path.exists(os.path.join('database','database.sqlite')):\n",
    "    logging.critical('Database does not exists! You need to create it first (db_builder.ipynb)')\n",
    "    raise Exception('Database does not exists! You need to create it first (db_builder.ipynb)')\n",
    "\n",
    "conn=DBConnection(os.path.join('database','database.sqlite'))\n",
    "logging.info('Connected with \"database/database.sqlite\" database.') "
   ]
  },
  {
   "attachments": {},
   "cell_type": "markdown",
   "metadata": {},
   "source": [
    "#### Checking organization existance"
   ]
  },
  {
   "cell_type": "code",
   "execution_count": null,
   "metadata": {},
   "outputs": [],
   "source": [
    "for org in range(len(organizations)):\n",
    "    try:\n",
    "        organizations[org] = conn.get_rows('organization',{'url':'https://github.com/{}'.format(organizations[org])})[0]\n",
    "        logging.info('Found organization \"{}\" in the database!'.format(organizations[org]['user_name']))\n",
    "    except IndexError as err:\n",
    "        logging.warning('Cannot find organization \"{}\" in the database!'.format(organizations[org]))\n",
    "        organizations.remove(organizations[org])\n",
    "        continue"
   ]
  },
  {
   "attachments": {},
   "cell_type": "markdown",
   "metadata": {},
   "source": [
    "#### Grype execution for each repository of the organization:"
   ]
  },
  {
   "cell_type": "code",
   "execution_count": null,
   "metadata": {},
   "outputs": [],
   "source": [
    "import os\n",
    "from pathlib import PureWindowsPath, PurePosixPath\n",
    "from lib.vuln_utils import get_grype_vulns\n",
    "\n",
    "repositories = list()\n",
    "for organization in organizations:\n",
    "    repositories.extend([(repo,organization) for repo in conn.get_rows('repository', {'organization':organization['url']})])\n",
    "\n",
    "grype_vulns = []\n",
    "if not os.path.exists(os.path.join('grype_db','vulnerability.db')):\n",
    "    logging.warning('Cannot find Grype \"vulnerability.db\" in \"grype_db\" folder. Execution will continue without storing additional information for vulnerabilities!')\n",
    "else:\n",
    "    grype_db_conn=DBConnection(os.path.join('grype_db','vulnerability.db'))\n",
    "    grype_vulns = grype_db_conn.get_rows('vulnerability')\n",
    "\n",
    "logging.info('Starting Grype vulnerabilities collection for organization \"{}\"'.format(organization['user_name']))\n",
    "all_vulns = list()\n",
    "\n",
    "for repo,organization in repositories:\n",
    "    logging.info('Collecting Grype vulnerabilities for repository \"{}\" ...'.format(repo['name']))\n",
    "\n",
    "    sbom_path = None\n",
    "    man_sbom_path = os.path.join('sbom','manifest',organization['user_name'],'man_{}_{}_sbom.json'.format(organization['user_name'],repo['name']))\n",
    "    par_sbom_path = os.path.join('sbom','manifest',organization['user_name'],'par_{}_{}_sbom.json'.format(organization['user_name'],repo['name']))\n",
    "    \n",
    "    if os.path.isfile(par_sbom_path):\n",
    "        sbom_path = par_sbom_path\n",
    "    elif os.path.isfile(man_sbom_path):\n",
    "        sbom_path = man_sbom_path\n",
    "    else:\n",
    "        logging.warning('Cannot find SBoM files for repository \"{}\". Skipping to the next repository...'.format(repo['name']))\n",
    "        continue\n",
    "\n",
    "    packages = [dict({'name':p[0],'purl':p[1]}) for p in conn.query(\"\"\"SELECT p.name,p.purl FROM \n",
    "                                                                      (SELECT * FROM manifest_dependency UNION SELECT * FROM parsed_dependency) dep\n",
    "                                                                       LEFT JOIN package p ON p.purl = dep.package\n",
    "                                                                       WHERE dep.repository = \"{}\" \"\"\".format(repo['url']))]\n",
    "    vulns,affections,cpe_vulns,cpe_affections = [],[],[],[]\n",
    "\n",
    "    try:\n",
    "        vulns, affections = get_grype_vulns(sbom_path=str(PurePosixPath(PureWindowsPath(sbom_path))), packages=packages, extended_vulns=grype_vulns)\n",
    "    except Exception as e:\n",
    "        logging.warning('An error occur while executing Grype for \"{}\" repository. Execution will continue with no Grype vulnerabilities for that repository. Error: \\n{}'.format(repo['name'],e))\n",
    "    try:\n",
    "        cpe_vulns, cpe_affections = get_grype_vulns(sbom_path=str(PurePosixPath(PureWindowsPath(sbom_path))), packages=packages, extended_vulns=grype_vulns, add_cpes_if_none=True)\n",
    "    except Exception as e:\n",
    "        logging.warning('An error occur while executing Grype with -add-cpes-if-none parameter for \"{}\" repository. Execution will continue with no Grype_CPE vulnerabilities for that repository. Error: \\n {}'.format(repo['name'],e))\n",
    "\n",
    "    vulns.extend(cpe_vulns)\n",
    "    all_vulns.extend(vulns)\n",
    "    \n",
    "    \n",
    "    logging.info('Storing Grype vulnerabilities for repository \"{}\" in the database ...'.format(repo['name']))\n",
    "    for vuln in vulns:\n",
    "        conn.add_or_update('vulnerability',vuln)\n",
    "    logging.info('Storing Grype affections for repository \"{}\" in the database ...'.format(repo['name']))\n",
    "    for affection in affections:\n",
    "        conn.add_or_update('grype_potential_affection',affection)\n",
    "    logging.info('Storing Grype CPE affections for repository \"{}\" in the database ...'.format(repo['name']))\n",
    "    for cpe_affection in cpe_affections:\n",
    "        conn.add_or_update('grype_cpe_potential_affection',cpe_affection)\n"
   ]
  },
  {
   "attachments": {},
   "cell_type": "markdown",
   "metadata": {},
   "source": [
    "#### Drop duplicate vulnerabilities"
   ]
  },
  {
   "cell_type": "code",
   "execution_count": null,
   "metadata": {},
   "outputs": [],
   "source": [
    "all_vulns = list({x['id']:x for x in all_vulns}.values())"
   ]
  },
  {
   "attachments": {},
   "cell_type": "markdown",
   "metadata": {},
   "source": [
    "#### Use NVD API to store more info about vulnerabilities collected with Grype"
   ]
  },
  {
   "cell_type": "code",
   "execution_count": null,
   "metadata": {},
   "outputs": [],
   "source": [
    "from lib.vuln_utils import extend_vulns_with_nvdapi\n",
    "logging.info('Getting more info about vulnerabilities with OSV API')\n",
    "all_vulns = extend_vulns_with_nvdapi(all_vulns,wait_time=0.6 if nvd_api_key!='' else 6, logger=logging,nvd_api_key=nvd_api_key if nvd_api_key!='' else None)"
   ]
  },
  {
   "attachments": {},
   "cell_type": "markdown",
   "metadata": {},
   "source": [
    "#### Update database"
   ]
  },
  {
   "cell_type": "code",
   "execution_count": null,
   "metadata": {},
   "outputs": [],
   "source": [
    "for vuln in all_vulns:\n",
    "    conn.add_or_update('vulnerability',vuln)"
   ]
  },
  {
   "attachments": {},
   "cell_type": "markdown",
   "metadata": {},
   "source": [
    "#### Close databases"
   ]
  },
  {
   "cell_type": "code",
   "execution_count": null,
   "metadata": {},
   "outputs": [],
   "source": [
    "conn.close()\n",
    "grype_db_conn.close()"
   ]
  }
 ],
 "metadata": {
  "kernelspec": {
   "display_name": "Python 3",
   "language": "python",
   "name": "python3"
  },
  "language_info": {
   "codemirror_mode": {
    "name": "ipython",
    "version": 3
   },
   "file_extension": ".py",
   "mimetype": "text/x-python",
   "name": "python",
   "nbconvert_exporter": "python",
   "pygments_lexer": "ipython3",
   "version": "3.10.8 (tags/v3.10.8:aaaf517, Oct 11 2022, 16:50:30) [MSC v.1933 64 bit (AMD64)]"
  },
  "orig_nbformat": 4,
  "vscode": {
   "interpreter": {
    "hash": "369f2c481f4da34e4445cda3fffd2e751bd1c4d706f27375911949ba6bb62e1c"
   }
  }
 },
 "nbformat": 4,
 "nbformat_minor": 2
}
