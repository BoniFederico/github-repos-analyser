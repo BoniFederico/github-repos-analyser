{
 "cells": [
  {
   "attachments": {},
   "cell_type": "markdown",
   "metadata": {},
   "source": [
    "# Grype DB for Java Vulnerabilities\n",
    "This notebook search in the <b>Grype database</b> for vulnerabilities that affect all the maven packages stored in the <b>sqlite database</b>. It can be executed only ONCE for all the packages stored.\n",
    "<hr>"
   ]
  },
  {
   "cell_type": "code",
   "execution_count": null,
   "metadata": {},
   "outputs": [],
   "source": [
    "# In order to obtain further information about vulnerabilities, NVD API are used. The public rate limit (without an API key) \n",
    "# is 5 requests in a rolling 30 second window, thus in this notebook the default wait_time is setted to 6 sec between to requests.\n",
    "# If you want to speed up the process (up to 50 requests in a rolling 30 second window), you can get an API KEY by following the\n",
    "# instructions in #https://nvd.nist.gov/developers/start-here#:~:text=to%20in%20sequence.-,Request%20an%20API%20Key,-On%20the%20API.\n",
    "\n",
    "# Once the key is obtained, it is sufficient to paste it in the following variable for increasing the rate limit used in this notebook.\n",
    "# If you do not want to use a KEY simply leave the following variable EMPTY.\n",
    "nvd_api_key = \"<NVD-API-KEY>\" "
   ]
  },
  {
   "attachments": {},
   "cell_type": "markdown",
   "metadata": {},
   "source": [
    "#### Requirements\n",
    "<hr>"
   ]
  },
  {
   "attachments": {},
   "cell_type": "markdown",
   "metadata": {},
   "source": [
    "#### Logger set up"
   ]
  },
  {
   "cell_type": "code",
   "execution_count": null,
   "metadata": {},
   "outputs": [],
   "source": [
    "import logging, os, datetime,sys\n",
    "from pathlib import Path\n",
    "Path('logs').mkdir(parents=True,exist_ok=True)\n",
    "# Logging Levels: DEBUG, INFO, WARNING, ERROR, CRITICAL\n",
    "logging.basicConfig(#filename=os.path.join('logs','sbom_creator',str(datetime.datetime.now().strftime(\"%d-%m-%Y T%H %M %S\")) +'.log'),\n",
    "handlers=[\n",
    "        logging.FileHandler(os.path.join('logs','log-'+str(datetime.datetime.now().strftime(\"%d-%m-%Y\")) +'.log')),\n",
    "        logging.StreamHandler(sys.stdout)\n",
    "    ],\n",
    "                    format='%(asctime)s |:| LEVEL:%(levelname)-2s |:| FILE:notebook_3.1 (java_grype).ipynb:%(lineno)-s |:| %(message)s',\n",
    "                    datefmt='%Y-%m-%d %H:%M:%S',\n",
    "                    level=logging.DEBUG)\n",
    "logging.getLogger(\"urllib3\").propagate = False"
   ]
  },
  {
   "attachments": {},
   "cell_type": "markdown",
   "metadata": {},
   "source": [
    "#### Database connection"
   ]
  },
  {
   "cell_type": "code",
   "execution_count": null,
   "metadata": {},
   "outputs": [],
   "source": [
    "from lib.sqlite_utils import DBConnection \n",
    "\n",
    "if not os.path.exists(os.path.join('database','database.sqlite')):\n",
    "    logging.critical('Database does not exists! You need to create it first (db_builder.ipynb)')\n",
    "    raise Exception('Database does not exists! You need to create it first (db_builder.ipynb)')\n",
    "\n",
    "conn=DBConnection(os.path.join('database','database.sqlite'))\n",
    "logging.info('Connected with \"database/database.sqlite\" database.')"
   ]
  },
  {
   "attachments": {},
   "cell_type": "markdown",
   "metadata": {},
   "source": [
    "#### Grype database connection"
   ]
  },
  {
   "cell_type": "code",
   "execution_count": null,
   "metadata": {},
   "outputs": [],
   "source": [
    "import os\n",
    "\n",
    "if not os.path.exists(os.path.join('grype_db','vulnerability.db')):\n",
    "    logging.critical('Cannot find Grype \"vulnerability.db\" in \"grype_db\" folder.')\n",
    "    raise Exception('Cannot find Grype \"vulnerability.db\" in \"grype_db\" folder.')\n",
    "\n",
    "grype_db_conn=DBConnection(os.path.join('grype_db','vulnerability.db'))\n",
    "logging.info('Connected with \"grype_db/vulnerability.db\" database.')"
   ]
  },
  {
   "attachments": {},
   "cell_type": "markdown",
   "metadata": {},
   "source": [
    "#### Collection of Java vulnerabilities"
   ]
  },
  {
   "cell_type": "code",
   "execution_count": null,
   "metadata": {},
   "outputs": [],
   "source": [
    "#Getting all Java packages and all Grype vulnerabilities:\n",
    "packages = conn.get_rows('package',dic={'package_manager':'maven'})\n",
    "grype_vulns = grype_db_conn.get_rows('vulnerability')"
   ]
  },
  {
   "cell_type": "code",
   "execution_count": null,
   "metadata": {},
   "outputs": [],
   "source": [
    "from packageurl import PackageURL\n",
    "from lib.vuln_utils import is_vulnerable,extend_vulns_with_grypedb\n",
    "import ast\n",
    "\n",
    "vulnerabilities = list()\n",
    "grype_pot_affection = list()\n",
    "\n",
    "for package in packages:\n",
    "    purl_dict = PackageURL.from_string(package['purl']).to_dict()\n",
    "    query_search = (purl_dict['namespace'] + ':' + purl_dict['name']).lower()\n",
    "    logging.info(f'Querying Grype db for \"{query_search}\" Java package...')\n",
    "    vulns = grype_db_conn.query(f'SELECT v.id,v.package_name,m.severity,m.urls,v.version_constraint,v.related_vulnerabilities,v.fixed_in_versions FROM vulnerability v LEFT JOIN vulnerability_metadata m ON v.id=m.id WHERE v.namespace=\"github:language:java\" and LOWER(v.package_name) LIKE \"%{query_search}\"')\n",
    "    vulns = [dict(zip(['id','package_name','severity','urls','version_constraint','related_vulnerabilities','fixed_in_versions'],v)) for v in vulns if is_vulnerable(v[4],purl_dict['version'])]\n",
    "    \n",
    "    vulns = extend_vulns_with_grypedb([{\n",
    "        'url':'',\n",
    "        'other_sources':'',\n",
    "        'namespace':v['id'].split('-')[0],\n",
    "        'severity':v['severity'],\n",
    "        'fixed_package_version':ast.literal_eval(v['fixed_in_versions'])[0] if v['fixed_in_versions']!='None' and v['fixed_in_versions']!= None and len(ast.literal_eval(v['fixed_in_versions']))>0 else '',\n",
    "        'source':'GRYPE_DB',\n",
    "        'id': v['id']\n",
    "    } for v in vulns],grype_vulns)\n",
    "    vulnerabilities.extend(vulns)\n",
    "    grype_pot_affection.extend([{\n",
    "                'vulnerability':v['id'],\n",
    "                'package':package['purl']\n",
    "            } for v in vulns])\n",
    "\n",
    "logging.info('Vulnerabilities obtained for Java packages.')"
   ]
  },
  {
   "attachments": {},
   "cell_type": "markdown",
   "metadata": {},
   "source": [
    "#### Store vulnerabilities and affections"
   ]
  },
  {
   "cell_type": "code",
   "execution_count": null,
   "metadata": {},
   "outputs": [],
   "source": [
    "logging.info('Storing vulnerabilities and affections in \"grype_db/vulnerability.db\" database.')\n",
    "for vuln in vulnerabilities:\n",
    "    conn.add_or_update('vulnerability',vuln)\n",
    "\n",
    "for affection in grype_pot_affection:\n",
    "    conn.add_or_update('grype_potential_affection',affection)\n",
    "\n",
    "for affection in grype_pot_affection:\n",
    "    conn.add_or_update('grype_cpe_potential_affection',affection)"
   ]
  },
  {
   "attachments": {},
   "cell_type": "markdown",
   "metadata": {},
   "source": [
    "#### Use OSV API to store more info about vulnerabilities collected with Grype"
   ]
  },
  {
   "cell_type": "code",
   "execution_count": null,
   "metadata": {},
   "outputs": [],
   "source": [
    "from lib.vuln_utils import extend_vulns_with_nvdapi\n",
    "logging.info('Getting more info about vulnerabilities with OSV API')\n",
    "vulnerabilities = extend_vulns_with_nvdapi(vulnerabilities,wait_time=0.6 if nvd_api_key!='' else 6, logger=logging,nvd_api_key=nvd_api_key if nvd_api_key!='' else None)"
   ]
  },
  {
   "attachments": {},
   "cell_type": "markdown",
   "metadata": {},
   "source": [
    "#### Store vulnerabilities"
   ]
  },
  {
   "cell_type": "code",
   "execution_count": null,
   "metadata": {},
   "outputs": [],
   "source": [
    "logging.info('Storing vulnerabilities in \"grype_db/vulnerability.db\" database.')\n",
    "for vuln in vulnerabilities:\n",
    "    conn.add_or_update('vulnerability',vuln)"
   ]
  },
  {
   "attachments": {},
   "cell_type": "markdown",
   "metadata": {},
   "source": [
    "#### Close databases"
   ]
  },
  {
   "cell_type": "code",
   "execution_count": null,
   "metadata": {},
   "outputs": [],
   "source": [
    "conn.close()\n",
    "grype_db_conn.close()"
   ]
  }
 ],
 "metadata": {
  "kernelspec": {
   "display_name": "Python 3",
   "language": "python",
   "name": "python3"
  },
  "language_info": {
   "codemirror_mode": {
    "name": "ipython",
    "version": 3
   },
   "file_extension": ".py",
   "mimetype": "text/x-python",
   "name": "python",
   "nbconvert_exporter": "python",
   "pygments_lexer": "ipython3",
   "version": "3.10.8"
  },
  "orig_nbformat": 4,
  "vscode": {
   "interpreter": {
    "hash": "369f2c481f4da34e4445cda3fffd2e751bd1c4d706f27375911949ba6bb62e1c"
   }
  }
 },
 "nbformat": 4,
 "nbformat_minor": 2
}
