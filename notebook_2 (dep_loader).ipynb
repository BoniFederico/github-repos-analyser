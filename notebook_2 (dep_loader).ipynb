{
 "cells": [
  {
   "attachments": {},
   "cell_type": "markdown",
   "metadata": {},
   "source": [
    "# Dependencies loader\n",
    "\n",
    "Given the names of a set of <b>organizations</b> already stored in the database, this notebook build <b>manifest</b> and <b>parsed</b> SBoM for each repository, then it store <b>dependencies</b> and <b>packages</b> in the database.\n",
    "\n",
    "<hr>"
   ]
  },
  {
   "cell_type": "code",
   "execution_count": null,
   "metadata": {},
   "outputs": [],
   "source": [
    "\n",
    "organizations = [\"italia\",\"opendatatrentino\"] # Set here the GitHub username of the organizations\n",
    "\n",
    "# IMPORTANT: if you want to collect dependencies of the organizations obtained from GitHub & Government list (notebook_1 (gov_org_loader).ipynb)\n",
    "# you have to set the following variable to True. In this case, only these organizations will be analyzed (and the ones in the above list will be ignored)\n",
    "\n",
    "only_orgs_from_government_list = True # True"
   ]
  },
  {
   "attachments": {},
   "cell_type": "markdown",
   "metadata": {},
   "source": [
    "#### Requirements"
   ]
  },
  {
   "cell_type": "code",
   "execution_count": null,
   "metadata": {},
   "outputs": [],
   "source": [
    "#! npm install check-imports # For collecting JavaScript and TypeScript parsed dependencies\n",
    "#! pip install pipreqsnb # For collecting Python and Jupiter Notebook parsed dependencies\n",
    "\n",
    "# Moreover, in order to detect all the packages, the following are required (from https://github.com/microsoft/component-detection/blob/main/docs/feature-overview.md):\n",
    "# Conda v4.10.2+        -> for Conda dependencies\n",
    "# Gradle 7              -> for Java dependencies (Gradle)\n",
    "# Go 1.11+              -> for Go dependencies\n",
    "# Maven                 -> for Java dependencies (Maven)\n",
    "# Internet connection   -> for Python (PyPi) transitive dependencies"
   ]
  },
  {
   "attachments": {},
   "cell_type": "markdown",
   "metadata": {},
   "source": [
    "<hr>"
   ]
  },
  {
   "attachments": {},
   "cell_type": "markdown",
   "metadata": {},
   "source": [
    "#### Logger set up"
   ]
  },
  {
   "cell_type": "code",
   "execution_count": null,
   "metadata": {},
   "outputs": [],
   "source": [
    "import logging, os, datetime,sys\n",
    "from pathlib import Path\n",
    "Path('logs').mkdir(parents=True,exist_ok=True)\n",
    "# Logging Levels: DEBUG, INFO, WARNING, ERROR, CRITICAL\n",
    "logging.basicConfig(#filename=os.path.join('logs','sbom_creator',str(datetime.datetime.now().strftime(\"%d-%m-%Y T%H %M %S\")) +'.log'),\n",
    "handlers=[\n",
    "        logging.FileHandler(os.path.join('logs','log-'+str(datetime.datetime.now().strftime(\"%d-%m-%Y\")) +'.log')),\n",
    "        logging.StreamHandler(sys.stdout)\n",
    "    ],\n",
    "                    format='%(asctime)s |:| LEVEL:%(levelname)-2s |:| FILE:notebook_2 (dep_loader).ipynb:%(lineno)-s |:| %(message)s',\n",
    "                    datefmt='%Y-%m-%d %H:%M:%S',\n",
    "                    level=logging.DEBUG)\n",
    "#if not logging.getLogger().handlers: logging.getLogger().addHandler(logging.StreamHandler(sys.stdout))\n",
    "logging.getLogger(\"urllib3\").propagate = False"
   ]
  },
  {
   "attachments": {},
   "cell_type": "markdown",
   "metadata": {},
   "source": [
    "#### Get organizations from database"
   ]
  },
  {
   "cell_type": "code",
   "execution_count": null,
   "metadata": {},
   "outputs": [],
   "source": [
    "from lib.sqlite_utils import DBConnection \n",
    "\n",
    "if not os.path.exists(os.path.join('database','database.sqlite')):\n",
    "    logging.critical('Database does not exists! You need to create it first (db_builder.ipynb)')\n",
    "    raise Exception('Database does not exists! You need to create it first (db_builder.ipynb)')\n",
    "\n",
    "conn=DBConnection(os.path.join('database','database.sqlite'))\n",
    "\n",
    "if only_orgs_from_government_list:\n",
    "    organizations = conn.query('SELECT url,name,user_name FROM organization WHERE section!=\"NULL\" and category!=\"NULL\"')\n",
    "    organizations = [dict(zip(['url','name','user_name'],org)) for org in organizations]\n",
    "else:\n",
    "    for org in range(len(organizations)):\n",
    "        try:\n",
    "            organizations[org] = conn.get_rows('organization',{'url':'https://github.com/{}'.format(organizations[org])})[0]\n",
    "            logging.info('Found organization \"{}\" in the database!'.format(organizations[org]['user_name']))\n",
    "        except IndexError as err:\n",
    "            logging.warning('Cannot find organization \"{}\" in the database!'.format(organizations[org]))\n",
    "            organizations.remove(organizations[org])\n",
    "            continue\n",
    "\n",
    " "
   ]
  },
  {
   "attachments": {},
   "cell_type": "markdown",
   "metadata": {},
   "source": [
    "#### SBoM creation and dependencies collection"
   ]
  },
  {
   "cell_type": "code",
   "execution_count": null,
   "metadata": {},
   "outputs": [],
   "source": [
    "from lib.github import download_repo\n",
    "from lib.deps_utils import js_parsed_deps,py_parsed_deps,get_deps_from_sbom\n",
    "from pathlib import Path\n",
    "import os.path\n",
    "from lib.system_utils import exc,delete_file_with,unique_dictionaries\n",
    "import shutil\n",
    "\n",
    "if not os.path.exists(os.path.join('sbom-tool','sbom-tool.exe')):\n",
    "    logging.critical('Cannot find sbom-tool.exe executable! You need to provide sbom-tool.exe inside the sbom-tool folder!')\n",
    "    raise Exception('Cannot find sbom-tool.exe executable! You need to provide sbom-tool.exe inside the sbom-tool folder!')\n",
    "\n",
    "# List from paper: https://arxiv.org/abs/1710.04936 +'example'\n",
    "tokens=['development','optional','enhances','suggests','build','configure','test','develop','dev','example','doc']\n",
    "\n",
    "\n",
    "Path('sbom').mkdir(parents=True,exist_ok=True)\n",
    "Path(os.path.join('sbom','manifest')).mkdir(parents=True,exist_ok=True)\n",
    "\n",
    "\n",
    "manifest_dependencies,parsed_dependencies, packages = list(),list(),list()\n",
    "\n",
    "for organization in organizations:\n",
    "    repositories = conn.get_rows('repository', {'organization':organization['url']})\n",
    "\n",
    "    logging.info('Starting dependencies collection for organization \"{}\"'.format(organization['user_name']))\n",
    "    for repo in repositories:\n",
    "    \n",
    "        org_folder = os.path.join('sbom','manifest',organization['user_name'])\n",
    "        if os.path.exists(os.path.join(org_folder,'man_{}_{}_sbom.json'.format(organization['user_name'],repo['name']))):\n",
    "            logging.warning('A SBoM file for repository \"{}\" already exists. Skipping repository...'.format(repo['name']))\n",
    "            continue\n",
    "        Path(org_folder).mkdir(parents=True,exist_ok=True)\n",
    "        Path(os.path.join(org_folder,repo['name'])).mkdir(parents=True,exist_ok=True)\n",
    "        \n",
    "        logging.info('Downloading repository \"{}\" ...'.format(repo['name']))\n",
    "        try:\n",
    "            download_repo(organization['user_name'],repo['name'],os.path.join('sbom','manifest',organization['user_name'],repo['name']),branch=repo['default_branch'])\n",
    "        except Exception as e:\n",
    "            logging.warning('Cannot download repository \"{}\" of organization \"{}\". Continue with others ...'.format(repo['name'],organization['user_name']))\n",
    "            shutil.rmtree(os.path.join(org_folder,repo['name']), ignore_errors=True, onerror=None)\n",
    "            try:\n",
    "                os.remove(os.path.join(org_folder,repo['name']+'.zip'))\n",
    "            except:\n",
    "                continue\n",
    "            continue\n",
    "        logging.info('Executing sbom-tool on repository \"{}\" ...'.format(repo['name']))\n",
    "        try:\n",
    "            res=exc(\"\"\".\\sbom-tool\\sbom-tool.exe generate -b {0}\n",
    "                                         -bc {0} \n",
    "                                         -pn {1} \n",
    "                                         -pv 1.0 \n",
    "                                         -ps {2} \n",
    "                                         -nsb https://github.com/{2} \n",
    "                                         -m {3}\"\"\".format(os.path.join(org_folder,repo['name']),\n",
    "                                                          repo['name'],\n",
    "                                                          organization['user_name'],\n",
    "                                                          org_folder).replace('\\n',''))\n",
    "        except Exception as e:\n",
    "            shutil.rmtree(os.path.join(org_folder,repo['name']), ignore_errors=True, onerror=None)\n",
    "            logging.warning('An error occurred while running sbom-tool for repository \"{}\". The execution proceeds skipping this repository.'.format(repo['name']))\n",
    "            continue\n",
    "        shutil.move(os.path.join(org_folder,'_manifest','spdx_2.2','manifest.spdx.json'), os.path.join(org_folder,'man_{}_{}_sbom.json'.format(organization['user_name'],repo['name'])))\n",
    "        shutil.rmtree(os.path.join(org_folder,'_manifest'), ignore_errors=True, onerror=None)\n",
    "\n",
    "        dependencies = get_deps_from_sbom(os.path.join(org_folder,'man_{}_{}_sbom.json'.format(organization['user_name'],repo['name'])),repo['name'])\n",
    "\n",
    "        js_parsed_dependencies,py_parsed_dependencies = [],[]\n",
    "\n",
    "        if repo['language'] in ['Python','Jupyter Notebook']:\n",
    "            delete_file_with(os.path.join(org_folder,repo['name']),tokens) # Delete file with 'dev,example,...' tokens\n",
    "            try:\n",
    "                py_parsed_dependencies = py_parsed_deps(org_folder,organization['user_name'],repo['name'],dependencies)\n",
    "            except Exception as e:\n",
    "                shutil.rmtree(os.path.join(org_folder,repo['name']), ignore_errors=True, onerror=None)\n",
    "                logging.warning('An error occurred while running pipreqsnb for the \"{}\" repository. The execution proceeds without getting Python parsed_dependencies for the repository. Error:\\n {}'.format(repo['name'],e))\n",
    "        \n",
    "        if repo['language'] in ['JavaScript','TypeScript']:\n",
    "            delete_file_with(os.path.join(org_folder,repo['name']),tokens) # Delete file with 'dev,example,...' tokens\n",
    "            logging.info('Executing check-imports on repository \"{}\" ...'.format(repo['name']))\n",
    "            try:\n",
    "                js_parsed_dependencies = js_parsed_deps(os.path.join(org_folder,repo['name']))\n",
    "            except Exception as e:\n",
    "                shutil.rmtree(os.path.join(org_folder,repo['name']), ignore_errors=True, onerror=None)\n",
    "                logging.warning('An error occurred while running check-imports for the \"{}\" repository. The execution proceeds without getting JavaScript parsed_dependencies for the repository. Error:\\n {}'.format(repo['name'],e))\n",
    "            logging.info('Executing pipreqsnb on repository \"{}\" ...'.format(repo['name']))\n",
    "        \n",
    "        packages.extend(list(unique_dictionaries(dependencies + js_parsed_dependencies + py_parsed_dependencies)))\n",
    "\n",
    "\n",
    "        manifest_dependencies.extend([{ 'package':dep['purl'],'repository':repo['url']} for dep in dependencies])\n",
    "        parsed_dependencies.extend([{ 'package':dep['purl'],'repository':repo['url']} for dep in js_parsed_dependencies + py_parsed_dependencies])\n",
    "\n",
    "        shutil.rmtree(os.path.join(org_folder,repo['name']), ignore_errors=True, onerror=None)\n",
    "\n",
    "    logging.info('Dependencies collection completed for organization \"{}\"!'.format(organization['user_name']))\n",
    " "
   ]
  },
  {
   "attachments": {},
   "cell_type": "markdown",
   "metadata": {},
   "source": [
    "#### Store packages and dependencies in the database"
   ]
  },
  {
   "cell_type": "code",
   "execution_count": null,
   "metadata": {},
   "outputs": [],
   "source": [
    "logging.info('Store collected packages and dependencies in the database for organization {} ...'.format(organization['user_name']))\n",
    "\n",
    "for package in packages:\n",
    "    conn.add_or_update('package',package)\n",
    "\n",
    "for manifest_dependency in manifest_dependencies:\n",
    "    conn.add_or_update('manifest_dependency',manifest_dependency)\n",
    "\n",
    "for parsed_dependency in parsed_dependencies:\n",
    "    conn.add_or_update('parsed_dependency',parsed_dependency)\n",
    "\n",
    "logging.info('Storing of packages and dependencies in the database for organization {} completed!'.format(organization['user_name']))"
   ]
  },
  {
   "attachments": {},
   "cell_type": "markdown",
   "metadata": {},
   "source": [
    "### Close database connection"
   ]
  },
  {
   "cell_type": "code",
   "execution_count": null,
   "metadata": {},
   "outputs": [],
   "source": [
    "conn.close()"
   ]
  }
 ],
 "metadata": {
  "kernelspec": {
   "display_name": "Python 3",
   "language": "python",
   "name": "python3"
  },
  "language_info": {
   "codemirror_mode": {
    "name": "ipython",
    "version": 3
   },
   "file_extension": ".py",
   "mimetype": "text/x-python",
   "name": "python",
   "nbconvert_exporter": "python",
   "pygments_lexer": "ipython3",
   "version": "3.10.8 (tags/v3.10.8:aaaf517, Oct 11 2022, 16:50:30) [MSC v.1933 64 bit (AMD64)]"
  },
  "orig_nbformat": 4,
  "vscode": {
   "interpreter": {
    "hash": "369f2c481f4da34e4445cda3fffd2e751bd1c4d706f27375911949ba6bb62e1c"
   }
  }
 },
 "nbformat": 4,
 "nbformat_minor": 2
}
