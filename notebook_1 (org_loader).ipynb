{
 "cells": [
  {
   "attachments": {},
   "cell_type": "markdown",
   "metadata": {},
   "source": [
    "# Organization Loader\n",
    "\n",
    "This notebook is used to store information about an <b>organization</b>, its <b>repositories</b> and their <b>contributors</b> in the database. Set the organization username below and run the notebook.\n",
    "<hr>"
   ]
  },
  {
   "cell_type": "code",
   "execution_count": null,
   "metadata": {},
   "outputs": [],
   "source": [
    "organization = \"italia\" # Set here the GitHub username of the organization\n",
    "country = '' # Optional: the country of the organization\n",
    "access_token=\"<PERSONAL-ACCESS-TOKEN>\" # You need to create a Personal Access Token (https://github.com/settings/tokens)"
   ]
  },
  {
   "attachments": {},
   "cell_type": "markdown",
   "metadata": {},
   "source": [
    "#### Requirements"
   ]
  },
  {
   "cell_type": "code",
   "execution_count": null,
   "metadata": {},
   "outputs": [],
   "source": [
    "#! pip install iso3166"
   ]
  },
  {
   "attachments": {},
   "cell_type": "markdown",
   "metadata": {},
   "source": [
    "<hr>"
   ]
  },
  {
   "attachments": {},
   "cell_type": "markdown",
   "metadata": {},
   "source": [
    "#### Logger set up"
   ]
  },
  {
   "cell_type": "code",
   "execution_count": null,
   "metadata": {},
   "outputs": [],
   "source": [
    "import logging, os, datetime,sys\n",
    "from pathlib import Path\n",
    "Path('logs').mkdir(parents=True,exist_ok=True)\n",
    "# Logging Levels: DEBUG, INFO, WARNING, ERROR, CRITICAL\n",
    "logging.basicConfig(#filename=os.path.join('logs','sbom_creator',str(datetime.datetime.now().strftime(\"%d-%m-%Y T%H %M %S\")) +'.log'),\n",
    "handlers=[\n",
    "        logging.FileHandler(os.path.join('logs','log-'+str(datetime.datetime.now().strftime(\"%d-%m-%Y\")) +'.log')),\n",
    "        logging.StreamHandler(sys.stdout)\n",
    "    ],\n",
    "                    format='%(asctime)s |:| LEVEL:%(levelname)-2s |:| FILE:notebook_1 (org_loader).ipynb:%(lineno)-s |:| %(message)s',\n",
    "                    datefmt='%Y-%m-%d %H:%M:%S',\n",
    "                    level=logging.DEBUG)\n",
    "#if not logging.getLogger().handlers: logging.getLogger().addHandler(logging.StreamHandler(sys.stdout))\n",
    "logging.getLogger(\"urllib3\").propagate = False"
   ]
  },
  {
   "attachments": {},
   "cell_type": "markdown",
   "metadata": {},
   "source": [
    "#### GitHubApi instance"
   ]
  },
  {
   "cell_type": "code",
   "execution_count": null,
   "metadata": {},
   "outputs": [],
   "source": [
    "# In order to use the GitHub API endpoints, the class GitHubApi is defined. A [Personal Access Token](https://github.com/settings/tokens) is needed.\n",
    "from lib.github import GitHubApi\n",
    "github_api=GitHubApi(access_token)"
   ]
  },
  {
   "attachments": {},
   "cell_type": "markdown",
   "metadata": {},
   "source": [
    "#### Get organization info"
   ]
  },
  {
   "cell_type": "code",
   "execution_count": null,
   "metadata": {},
   "outputs": [],
   "source": [
    "import time\n",
    "import datetime\n",
    "from iso3166 import countries\n",
    "\n",
    "org= None\n",
    "try:\n",
    "    logging.info(f'Getting organization info from GitHub API for organization\"{organization}\"')\n",
    "    data=github_api.req('https://api.github.com/orgs/{}'.format(organization.lower()))\n",
    "    members= github_api.req('https://api.github.com/orgs/{}/public_members'.format(organization))\n",
    "    org= {\n",
    "        'user_name': organization,\n",
    "        'url':'https://github.com/'+organization,\n",
    "        'name': data['name'] if 'name' in data else data['login'] if 'login' in data else '',\n",
    "        'location': data['location'] if 'location' in data else '',\n",
    "        'repos': data['public_repos'] if 'public_repos' in data else '',\n",
    "        'followers': data['followers'] if 'followers' in data else '',\n",
    "        'created_at': data['created_at'] if 'created_at' in data else '',\n",
    "        'timestamp_created_at': time.mktime(datetime.datetime.strptime( data['created_at'], \"%Y-%m-%dT%XZ\").timetuple()) if 'created_at' in data else '',\n",
    "        'country': country if country!='' else countries.get(data['location'])[0] if 'location' in data and data['location'] in countries else '',\n",
    "        'members': len(members),\n",
    "        'is_verified': data['is_verified'] if 'is_verified' in data else ''\n",
    "    }\n",
    "except Exception as e:\n",
    "    logging.critical('A problem occur while using GitHub API for \"{}\" organization. Problem: {}'.format(organization,e))\n",
    "    raise Exception ('A problem occur while using GitHub API for \"{}\" organization.'.format(organization)) from e\n",
    "    "
   ]
  },
  {
   "attachments": {},
   "cell_type": "markdown",
   "metadata": {},
   "source": [
    "#### Store organization info in the database"
   ]
  },
  {
   "cell_type": "code",
   "execution_count": null,
   "metadata": {},
   "outputs": [],
   "source": [
    "from lib.sqlite_utils import DBConnection \n",
    "import os\n",
    "\n",
    "if not os.path.exists(os.path.join('database','database.sqlite')):\n",
    "    raise Exception('Database does not exists! You need to create it first (db_builder.ipynb)')\n",
    "\n",
    "conn=DBConnection(os.path.join('database','database.sqlite'))\n",
    "logging.info('Connected with \"database/database.sqlite\" database.') \n",
    "conn.add_or_update('organization',org)\n",
    "logging.info(f'Added organization \"{organization}\" to the database.')"
   ]
  },
  {
   "attachments": {},
   "cell_type": "markdown",
   "metadata": {},
   "source": [
    "#### Get repositories info"
   ]
  },
  {
   "cell_type": "code",
   "execution_count": null,
   "metadata": {},
   "outputs": [],
   "source": [
    "from datetime import date\n",
    "\n",
    "res_per_page,starting_page= 20,1\n",
    "repos=github_api.req(f'https://api.github.com/orgs/{organization}/repos?page={starting_page}&per_page={res_per_page}')\n",
    "\n",
    "instances = list()\n",
    "\n",
    "while len(repos)>0:\n",
    "    for repo in repos:\n",
    "        logging.info('Getting info about \"{}\" repository ...'.format(repo['name'] if 'name' in repo else '-'))\n",
    "        instances.append({\n",
    "            'name':repo['name'] if 'name' in repo else '',\n",
    "            'organization':org['url'],\n",
    "            'description': repo['description'] if 'description' in repo else '',\n",
    "            'url': repo['html_url'] if 'html_url' in repo else 'https://github.com/{}/{}'.format(org['user_name'],repo['name'] if 'name' in repo else ''),\n",
    "            'is_fork': 1 if (repo['fork'] if 'fork' in repo else False) else 0,\n",
    "            'size': repo['size'] if 'size' in repo else '-1',\n",
    "            'stars': repo['stargazers_count'] if 'stargazers_count' in repo else (repo['watchers'] if 'watchers' in repo else -1),\n",
    "            'watcher': repo['subscribers_count'] if 'subscribers_count' in repo else -1,\n",
    "            'language': repo['language'] if 'language' in repo else '',\n",
    "            'forks': repo['forks_count'] if 'forks_count' in repo else -1,\n",
    "            'open_issues': repo['open_issues'] if 'open_issues_count' in repo else -1,\n",
    "            'created_at': repo['created_at'] if 'created_at' in repo else '',\n",
    "            'updated_at': repo['updated_at'] if 'updated_at' in repo else '',\n",
    "            'stored_at': str(date.today()),\n",
    "            'default_branch': repo['default_branch'] if 'default_branch' in repo else 'master',\n",
    "            'timestamp_created_at': time.mktime(datetime.datetime.strptime( repo['created_at'], \"%Y-%m-%dT%XZ\").timetuple()) if 'created_at' in repo else '',\n",
    "            'timestamp_updated_at': time.mktime(datetime.datetime.strptime( repo['updated_at'], \"%Y-%m-%dT%XZ\").timetuple()) if 'updated_at' in repo else ''\n",
    "        })\n",
    "    starting_page+=1\n",
    "    repos=github_api.req(f'https://api.github.com/orgs/{organization}/repos?page={starting_page}&per_page={res_per_page}')"
   ]
  },
  {
   "attachments": {},
   "cell_type": "markdown",
   "metadata": {},
   "source": [
    "#### Store repositories in the database"
   ]
  },
  {
   "cell_type": "code",
   "execution_count": null,
   "metadata": {},
   "outputs": [],
   "source": [
    "logging.info(f'Storing repositories information for organization \"{organization}\"')\n",
    "for instance in instances:\n",
    "    conn.add_or_update('repository',instance)\n"
   ]
  },
  {
   "attachments": {},
   "cell_type": "markdown",
   "metadata": {},
   "source": [
    "#### Get contributors for each repository"
   ]
  },
  {
   "cell_type": "code",
   "execution_count": null,
   "metadata": {},
   "outputs": [],
   "source": [
    "from collections import Counter\n",
    "from dateutil.parser import parse\n",
    "from time import strptime,strftime\n",
    "from lib.github import get_contributors, get_commits, get_pullrequests\n",
    "\n",
    "users = list()\n",
    "contribs = list()\n",
    "\n",
    "for repo in instances:\n",
    "    branches = github_api.req('https://api.github.com/repos/{}/{}/branches'.format(organization,repo['name']))\n",
    "    branches = branches if 'message' not in branches else []\n",
    "\n",
    "    contributors = []\n",
    "    if len(branches)==0 or repo['size']==0:\n",
    "        continue\n",
    "\n",
    "    contributors = get_contributors(organization,repo['name'],github_api)\n",
    "    commits = get_commits(organization,repo['name'],github_api)\n",
    "    pull_requests = get_pullrequests(organization,repo['name'],github_api)\n",
    "\n",
    "    contributors = [user for user in contributors if 'login' in user]\n",
    "    pull_requests = [pull for pull in pull_requests if 'user' in pull and 'login' in pull['user'] and 'state' in pull]\n",
    "    commits = [com for com in commits if 'commit' in com and 'author' in com['commit'] and 'date' in com['commit']['author'] and ('login' in com['commit']['author'] or 'name' in com['commit']['author'])] \n",
    "\n",
    "    for user in contributors:\n",
    "        metadata = github_api.req('https://api.github.com/users/{}'.format(user['login']))\n",
    "        \n",
    "        users.append({\n",
    "            'user_name': metadata['login'] if 'login' in metadata else user['login'],\n",
    "            'created_at': metadata['created_at'] if 'created_at' in metadata else '',\n",
    "            'updated_at': metadata['updated_at'] if 'updated_at' in metadata else '',\n",
    "            'name': metadata['name'],\n",
    "            'company': metadata['company'] if 'company' in metadata else '',\n",
    "            'location': metadata['location'] if 'location' in metadata else '',\n",
    "            'followers': metadata['followers'] if 'followers' in metadata else '',\n",
    "            'following': metadata['following'] if 'following' in metadata else '',\n",
    "            'email': metadata['email'] if 'email' in metadata else '',\n",
    "            'bio': metadata['bio'] if 'bio' in metadata else '',\n",
    "            'repos': metadata['public_repos'] if 'public_repos' in metadata else '',\n",
    "            'twitter_username': metadata['twitter_username'] if 'twitter_username' in metadata else '',\n",
    "        })\n",
    "\n",
    "        commit_dates= [parse(commit['commit']['author']['date']).strftime('%d/%m/%Y') for commit in commits if  (commit['author']['login'] if (commit['author'] is not None and 'login' in commit['author'])  else  commit['commit']['author']['name']) ==user['login']] \n",
    "\n",
    "        contribs.append({\n",
    "            'user_name': metadata['login'],\n",
    "            'repository': repo['url'],\n",
    "            'contributions': user['contributions'],\n",
    "            'rejected_pull_requests': len([pull for pull in pull_requests if pull['user']['login']==user['login'] and pull['state']=='closed' and not('merged_at'  in pull)]),\n",
    "            'max_commit_in_a_day':  Counter(commit_dates).most_common()[0][1]  if len(commit_dates)>0 else '',\n",
    "            'first_commit_date':str(strftime('%d/%m/%Y',min([strptime(date,'%d/%m/%Y') for date in commit_dates])) if len(commit_dates)>0 else \"\")\n",
    "\n",
    "        })\n",
    "    logging.info('Collected {} contributors for repository \"{}\" ...'.format(len(contributors), repo['url']))\n",
    "\n"
   ]
  },
  {
   "attachments": {},
   "cell_type": "markdown",
   "metadata": {},
   "source": [
    "#### Store users and contributors in the database"
   ]
  },
  {
   "cell_type": "code",
   "execution_count": 11,
   "metadata": {},
   "outputs": [],
   "source": [
    "for user in users:\n",
    "    conn.add_or_update('user',user)\n",
    "\n",
    "for contrib in contribs:\n",
    "    conn.add_or_update('contributor',contrib)\n"
   ]
  },
  {
   "attachments": {},
   "cell_type": "markdown",
   "metadata": {},
   "source": [
    "#### Close database"
   ]
  },
  {
   "cell_type": "code",
   "execution_count": null,
   "metadata": {},
   "outputs": [],
   "source": [
    "conn.close()"
   ]
  }
 ],
 "metadata": {
  "kernelspec": {
   "display_name": "Python 3",
   "language": "python",
   "name": "python3"
  },
  "language_info": {
   "codemirror_mode": {
    "name": "ipython",
    "version": 3
   },
   "file_extension": ".py",
   "mimetype": "text/x-python",
   "name": "python",
   "nbconvert_exporter": "python",
   "pygments_lexer": "ipython3",
   "version": "3.10.8 (tags/v3.10.8:aaaf517, Oct 11 2022, 16:50:30) [MSC v.1933 64 bit (AMD64)]"
  },
  "orig_nbformat": 4,
  "vscode": {
   "interpreter": {
    "hash": "369f2c481f4da34e4445cda3fffd2e751bd1c4d706f27375911949ba6bb62e1c"
   }
  }
 },
 "nbformat": 4,
 "nbformat_minor": 2
}
