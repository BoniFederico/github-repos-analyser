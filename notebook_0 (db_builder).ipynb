{
 "cells": [
  {
   "attachments": {},
   "cell_type": "markdown",
   "metadata": {},
   "source": [
    "# Database Builder\n",
    "\n",
    "This notebook builds the <b>SQLite database</b> that is used in this project in order to store all data obtained. <br>\n",
    "\n",
    "Database and table are created only if they do not exist. If they exists, nothing will happen.\n",
    "<hr>"
   ]
  },
  {
   "attachments": {},
   "cell_type": "markdown",
   "metadata": {},
   "source": [
    "#### Requirements"
   ]
  },
  {
   "attachments": {},
   "cell_type": "markdown",
   "metadata": {},
   "source": [
    "#### Database creation"
   ]
  },
  {
   "cell_type": "code",
   "execution_count": null,
   "metadata": {},
   "outputs": [],
   "source": [
    "from lib.sqlite_utils import DBConnection \n",
    "from pathlib import Path\n",
    "import os\n",
    " \n",
    "Path(\"database\").mkdir(parents=True, exist_ok=True)\n",
    "\n",
    "conn=DBConnection(os.path.join('database','database.sqlite'))"
   ]
  },
  {
   "attachments": {},
   "cell_type": "markdown",
   "metadata": {},
   "source": [
    "## SQLITE DDL Table definitions"
   ]
  },
  {
   "attachments": {},
   "cell_type": "markdown",
   "metadata": {},
   "source": [
    "#### TABLE \"organization\""
   ]
  },
  {
   "cell_type": "code",
   "execution_count": 5,
   "metadata": {},
   "outputs": [
    {
     "data": {
      "text/plain": [
       "[]"
      ]
     },
     "execution_count": 5,
     "metadata": {},
     "output_type": "execute_result"
    }
   ],
   "source": [
    "conn.query(\"\"\"CREATE TABLE IF NOT EXISTS organization ( -- ORGANIZATION: represents a GitHub organization\n",
    "    url TEXT NOT NULL,  -- url of the GitHub organization\n",
    "    section TEXT,       -- the section of the GitHub & Gov web page where the GitHub organization is located (if it is present)\n",
    "    category TEXT,      -- the category of the GitHub & Gov web page where the GitHub organization is located (if it is present)\n",
    "    name TEXT,          -- the name of the GitHub organization\n",
    "    country TEXT,       -- if present, the country of the organization\n",
    "    user_name TEXT,     -- the GitHub user_name of the GitHub organization\n",
    "    location TEXT,      -- the location of the organization (obtained from GitHub metadata)\n",
    "    repos INTEGER,      -- the number of public repositories of the organization\n",
    "    followers INTEGER,  -- the number of followers of the organization\n",
    "    created_at TEXT,    -- the creation date of the organization\n",
    "    is_verified INTEGER,-- whether or not the organization is verified from GitHub (values in {0,1})\n",
    "    members INTEGER,    -- the number of the members of the organization\n",
    "    timestamp_created_at INTEGER, -- the timestamp of the creation date\n",
    "    PRIMARY KEY (url) )\n",
    "\"\"\")"
   ]
  },
  {
   "attachments": {},
   "cell_type": "markdown",
   "metadata": {},
   "source": [
    "#### TABLE \"repository\""
   ]
  },
  {
   "cell_type": "code",
   "execution_count": null,
   "metadata": {},
   "outputs": [],
   "source": [
    "conn.query(\"\"\"CREATE TABLE IF NOT EXISTS repository ( -- REPOSITORY: represents a GitHub repository\n",
    "    name TEXT,  -- name of the GitHub repository\n",
    "    organization TEXT,  -- the url of the GitHub organization that own the repository\n",
    "    description TEXT,   -- description of the repository\n",
    "    url TEXT NOT NULL,  -- the url of the repository\n",
    "    is_fork INTEGER,    -- whether the repository is a fork or not (values in {0,1})\n",
    "    size INTEGER,       -- the size of the repository in MB\n",
    "    stars INTEGER,      -- the number of stars of the repository\n",
    "    watcher INTEGER,     -- the number of watchers of the repository\n",
    "    language TEXT,      -- the main language used within the repository\n",
    "    forks INTEGER,      -- the number of times the repository has been forked\n",
    "    open_issues INTEGER,-- the number of open issues of the repository\n",
    "    created_at TEXT,    -- the creation date of the repository\n",
    "    updated_at TEXT,    -- the date of the last update of the repository\n",
    "    stored_at TEXT,     -- the date the repository has been stored in the database\n",
    "    default_branch TEXT,-- the default branch of the repository\n",
    "    timestamp_updated_at INTEGER, -- the timestamp of the last update date\n",
    "    timestamp_created_at INTEGER, -- the timestamp of the creation date\n",
    "    PRIMARY KEY (url),\n",
    "    FOREIGN KEY (organization) REFERENCES organization(url) )\n",
    "\"\"\")"
   ]
  },
  {
   "attachments": {},
   "cell_type": "markdown",
   "metadata": {},
   "source": [
    "#### TABLE \"user\""
   ]
  },
  {
   "cell_type": "code",
   "execution_count": null,
   "metadata": {},
   "outputs": [],
   "source": [
    "conn.query(\"\"\"CREATE TABLE IF NOT EXISTS user ( -- USER: represents a GitHub user\n",
    "    user_name TEXT,     -- the GitHub user_name of the user\n",
    "    created_at TEXT,    -- the creation date of the GitHub user profile\n",
    "    updated_at TEXT,    -- the date of the last update of the GitHub  user profile\n",
    "    name TEXT,          -- the name of the GitHub user\n",
    "    company TEXT,       -- the company of the user (obtained from GitHub metadata)\n",
    "    location TEXT,      -- the location of the user (obtained from GitHub metadata)\n",
    "    followers INTEGER,  -- the number of followers of the GitHub user\n",
    "    following INTEGER,  -- the number of GitHub users the user follow\n",
    "    email TEXT,         -- the email of the GitHub user\n",
    "    bio TEXT,           -- The profile description of the user\n",
    "    repos INTEGER,      -- The number of repositories of the user\n",
    "    twitter_username TEXT,  -- If present, the twitter username of the user\n",
    "    PRIMARY KEY (user_name) )\n",
    "\"\"\")"
   ]
  },
  {
   "attachments": {},
   "cell_type": "markdown",
   "metadata": {},
   "source": [
    "####  TABLE \"contributor\""
   ]
  },
  {
   "cell_type": "code",
   "execution_count": null,
   "metadata": {},
   "outputs": [],
   "source": [
    "conn.query(\"\"\"CREATE TABLE IF NOT EXISTS contributor ( -- CONTRIBUTOR: represents the relation between a REPOSITORY and a USER that contributes to it\n",
    "    user_name TEXT,             -- the user_name of the user\n",
    "    repository TEXT,            -- the repository url of the repository the user(user_name) contributes to\n",
    "    contributions INTEGER,      -- the total number of contributions of the user to the repository\n",
    "    rejected_pull_requests INTEGER,     -- the total number of rejected pull requests of the users during the repository lifetime (STORED BECAUSE: https://arxiv.org/abs/2103.03846)\n",
    "    max_commit_in_a_day INTEGER,        --the maximum number of commit that the user have done in one day (STORED BECAUSE: https://arxiv.org/abs/2103.03846)\n",
    "    first_commit_date TEXT,             -- the date of the first commit of the user (STORED BECAUSE: https://arxiv.org/abs/2103.03846)\n",
    "    PRIMARY KEY (user_name, repository),\n",
    "    FOREIGN KEY (user_name) REFERENCES user(user_name),\n",
    "    FOREIGN KEY (repository) REFERENCES repository(url))\n",
    "\"\"\")"
   ]
  },
  {
   "attachments": {},
   "cell_type": "markdown",
   "metadata": {},
   "source": [
    "#### TABLE \"package\""
   ]
  },
  {
   "cell_type": "code",
   "execution_count": null,
   "metadata": {},
   "outputs": [],
   "source": [
    "conn.query(\"\"\"CREATE TABLE IF NOT EXISTS package ( -- PACKAGE: represents a package that come from a programming language ecosystem\n",
    "    name TEXT,              -- the name of the package\n",
    "    package_manager TEXT,   -- the package manager of the package (pypi,maven,npm,...)\n",
    "    version TEXT,           -- the version of the package\n",
    "    namespace TEXT,         -- the namespace of the package\n",
    "    purl TEXT,              -- the purl (package url) of the package (SPEC: https://github.com/package-url/purl-spec)\n",
    "    PRIMARY KEY (purl))\n",
    "\"\"\")"
   ]
  },
  {
   "attachments": {},
   "cell_type": "markdown",
   "metadata": {},
   "source": [
    "#### TABLE \"manifest_dependency\""
   ]
  },
  {
   "cell_type": "code",
   "execution_count": null,
   "metadata": {},
   "outputs": [],
   "source": [
    "conn.query(\"\"\" CREATE TABLE IF NOT EXISTS manifest_dependency ( -- MANIFEST_DEPENDENCY: represents the dependency of a REPOSITORY on a PACKAGE (dependencies are collected from manifest files)\n",
    "    repository TEXT,   -- the repository url \n",
    "    package TEXT,      -- the package purl\n",
    "    PRIMARY KEY (repository,package),   \n",
    "    FOREIGN KEY (package) REFERENCES package(purl),\n",
    "    FOREIGN KEY (repository) REFERENCES repository(url))\n",
    "\"\"\")"
   ]
  },
  {
   "attachments": {},
   "cell_type": "markdown",
   "metadata": {},
   "source": [
    "#### TABLE \"parsed_dependency\""
   ]
  },
  {
   "cell_type": "code",
   "execution_count": null,
   "metadata": {},
   "outputs": [],
   "source": [
    "conn.query(\"\"\" CREATE TABLE IF NOT EXISTS parsed_dependency (  -- PARSED_DEPENDENCY: represents the dependency of a REPOSITORY on a PACKAGE (dependencies are collected from import strings inside the code files)\n",
    "    repository TEXT,    -- the repository url\n",
    "    package TEXT,       -- the package purl\n",
    "    PRIMARY KEY (repository,package),\n",
    "    FOREIGN KEY (package) REFERENCES package(purl),\n",
    "    FOREIGN KEY (repository) REFERENCES repository(url))\n",
    "\"\"\")"
   ]
  },
  {
   "attachments": {},
   "cell_type": "markdown",
   "metadata": {},
   "source": [
    "#### TABLE \"vulnerability\""
   ]
  },
  {
   "cell_type": "code",
   "execution_count": null,
   "metadata": {},
   "outputs": [],
   "source": [
    "conn.query(\"\"\" CREATE TABLE IF NOT EXISTS vulnerability ( -- VULNERABILITY: represents a software vulnerability\n",
    "    namespace TEXT,                 -- the namespace (type) of the id of the vulnerability (es. CVE, GHSA,...)\n",
    "    id TEXT,                        -- the unique identifier of the vulnerability in its namespace\n",
    "    base_score TEXT,                -- the base score of the vulnerability (https://nvd.nist.gov/vuln-metrics/cvss)\n",
    "    severity TEXT,                  -- the base severity of the vulnerability (https://nvd.nist.gov/vuln-metrics/cvss)\n",
    "    fixed_package_version TEXT,     -- the first package version where the vulnerability has been fixed (if it has been fixed)\n",
    "    published_at TEXT,              -- the date of the publication of the vulnerability\n",
    "    source TEXT,                    -- the collection procedure used (GRYPE, GRYPE_DB, OSV_API)\n",
    "    other_sources TEXT,             -- another identifier of the vulnerability in another namespace\n",
    "    url TEXT,                       -- the url to an explanation page of the vulnerability\n",
    "    attack_vector TEXT,             -- the attack vector (https://nvd.nist.gov/vuln-metrics/cvss)\n",
    "    attack_complexity TEXT,         -- the attack complexity (https://nvd.nist.gov/vuln-metrics/cvss)\n",
    "    priviledge_required TEXT,       -- type of priviledge required for exploitation (https://nvd.nist.gov/vuln-metrics/cvss)\n",
    "    user_interaction TEXT,          -- type of user interaction for exploitation (https://nvd.nist.gov/vuln-metrics/cvss)\n",
    "    scope TEXT,                     -- scope (https://nvd.nist.gov/vuln-metrics/cvss)\n",
    "    confidentiality_impact TEXT,    -- confidentiality impact (https://nvd.nist.gov/vuln-metrics/cvss)\n",
    "    integrity_impact TEXT,          -- integrity impact (https://nvd.nist.gov/vuln-metrics/cvss)\n",
    "    availability_impact TEXT,       -- availability impact (https://nvd.nist.gov/vuln-metrics/cvss)\n",
    "    exploitability_score TEXT,      -- exploitability score (https://nvd.nist.gov/vuln-metrics/cvss)\n",
    "    impact_score TEXT,              -- impact score (https://nvd.nist.gov/vuln-metrics/cvss)\n",
    "    vector_string TEXT,             -- vector string (https://nvd.nist.gov/vuln-metrics/cvss)\n",
    "    description TEXT,               -- description of the vulnerability\n",
    "    PRIMARY KEY (id))\n",
    "\"\"\")"
   ]
  },
  {
   "attachments": {},
   "cell_type": "markdown",
   "metadata": {},
   "source": [
    "#### TABLE \"grype_potential_affection\""
   ]
  },
  {
   "cell_type": "code",
   "execution_count": null,
   "metadata": {},
   "outputs": [],
   "source": [
    "conn.query(\"\"\" CREATE TABLE IF NOT EXISTS grype_potential_affection ( -- GRYPE_POTENTIAL_AFFECTION: the affection relation between a VULNERABILITY and a PACKAGE. Collected with Grype software\n",
    "    vulnerability TEXT,     -- the vulnerability ID\n",
    "    package TEXT,           -- the package purl\n",
    "    PRIMARY KEY (vulnerability,package),\n",
    "    FOREIGN KEY (package) REFERENCES package(purl),\n",
    "    FOREIGN KEY (vulnerability) REFERENCES vulnerability(id))\n",
    "\"\"\")"
   ]
  },
  {
   "attachments": {},
   "cell_type": "markdown",
   "metadata": {},
   "source": [
    "#### TABLE \"grype_cpe_potential_affection\""
   ]
  },
  {
   "cell_type": "code",
   "execution_count": null,
   "metadata": {},
   "outputs": [],
   "source": [
    "conn.query(\"\"\" CREATE TABLE IF NOT EXISTS grype_cpe_potential_affection ( -- GRYPE_CPE_POTENTIAL_AFFECTION: the affection relation between a VULNERABILITY and a PACKAGE. Collected with Grype software and --add-cpes-if-none parameter.\n",
    "    vulnerability TEXT,     -- the vulnerability ID\n",
    "    package TEXT,           -- the package purl\n",
    "    PRIMARY KEY (vulnerability,package),\n",
    "    FOREIGN KEY (package) REFERENCES package(purl),\n",
    "    FOREIGN KEY (vulnerability) REFERENCES vulnerability(id))\n",
    "\"\"\")"
   ]
  },
  {
   "attachments": {},
   "cell_type": "markdown",
   "metadata": {},
   "source": [
    "#### TABLE \"osv_api_potential_affection\""
   ]
  },
  {
   "cell_type": "code",
   "execution_count": null,
   "metadata": {},
   "outputs": [],
   "source": [
    "conn.query(\"\"\" CREATE TABLE IF NOT EXISTS osv_api_potential_affection ( -- OSV_API_POTENTIAL_AFFECTION: the affection relation between a VULNERABILITY and a PACKAGE. Collected with OSV API.\n",
    "    vulnerability TEXT,     -- the vulnerability ID\n",
    "    package TEXT,           -- the package purl\n",
    "    PRIMARY KEY (vulnerability,package),\n",
    "    FOREIGN KEY (package) REFERENCES package(purl),\n",
    "    FOREIGN KEY (vulnerability) REFERENCES vulnerability(id))\n",
    "\"\"\")"
   ]
  },
  {
   "cell_type": "code",
   "execution_count": null,
   "metadata": {},
   "outputs": [],
   "source": [
    "conn.close()"
   ]
  }
 ],
 "metadata": {
  "kernelspec": {
   "display_name": "Python 3",
   "language": "python",
   "name": "python3"
  },
  "language_info": {
   "codemirror_mode": {
    "name": "ipython",
    "version": 3
   },
   "file_extension": ".py",
   "mimetype": "text/x-python",
   "name": "python",
   "nbconvert_exporter": "python",
   "pygments_lexer": "ipython3",
   "version": "3.10.8 (tags/v3.10.8:aaaf517, Oct 11 2022, 16:50:30) [MSC v.1933 64 bit (AMD64)]"
  },
  "orig_nbformat": 4,
  "vscode": {
   "interpreter": {
    "hash": "369f2c481f4da34e4445cda3fffd2e751bd1c4d706f27375911949ba6bb62e1c"
   }
  }
 },
 "nbformat": 4,
 "nbformat_minor": 2
}
